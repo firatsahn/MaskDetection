{
 "cells": [
  {
   "cell_type": "code",
   "execution_count": null,
   "metadata": {
    "scrolled": true
   },
   "outputs": [],
   "source": [
    "#testing for running models\n",
    "!python3 models/research/object_detection/builders/model_builder_tf2_test.py\n",
    "\n",
    "#For a successful tensorflow object detection api setup, the outputs should be as follows(\n",
    "#başarılı bir tensorflow object detection api kurulumu için çıktılar aşağıdaki gibi olmalı):"
   ]
  },
  {
   "cell_type": "markdown",
   "metadata": {},
   "source": [
    "\n",
    "<img src=\"kurulum-test.png\">"
   ]
  },
  {
   "cell_type": "code",
   "execution_count": null,
   "metadata": {},
   "outputs": [],
   "source": [
    "train_record_path = 'training/train.record'\n",
    "test_record_path = 'training/test.record'\n",
    "\n",
    "labelmap_path = 'training/labelmap.pbtxt'"
   ]
  },
  {
   "cell_type": "code",
   "execution_count": null,
   "metadata": {},
   "outputs": [],
   "source": [
    "#training\n",
    "!python3 /../../Desktop/MaskDetection/models/research/object_detection/model_main_tf2.py \\\n",
    "    --pipeline_config_path=training/pipeline.config \\\n",
    "    --model_dir= training \\\n",
    "    --alsologtostderr"
   ]
  },
  {
   "cell_type": "code",
   "execution_count": null,
   "metadata": {},
   "outputs": [],
   "source": [
    "#training result log\n",
    "\"\"\"\n",
    "16:29:00.572663 139743025571648 model_lib_v2.py:676] Step 100 per-step time 6.872s loss=0.592\n",
    "16:40:03.821806 139743025571648 model_lib_v2.py:676] Step 200 per-step time 6.633s loss=0.503\n",
    "16:51:17.746796 139743025571648 model_lib_v2.py:676] Step 300 per-step time 6.739s loss=0.448\n",
    "17:02:06.770411 139743025571648 model_lib_v2.py:676] Step 400 per-step time 6.490s loss=0.500\n",
    "17:12:43.939376 139743025571648 model_lib_v2.py:676] Step 500 per-step time 6.372s loss=0.435\n",
    "17:23:20.445287 139743025571648 model_lib_v2.py:676] Step 600 per-step time 6.365s loss=0.362\n",
    "17:34:12.742549 139743025571648 model_lib_v2.py:676] Step 700 per-step time 6.523s loss=0.453\n",
    "17:45:04.159851 139743025571648 model_lib_v2.py:676] Step 800 per-step time 6.514s loss=0.451\n",
    "17:55:20.766506 139743025571648 model_lib_v2.py:676] Step 900 per-step time 6.166s loss=0.365\n",
    "18:05:25.646267 139743025571648 model_lib_v2.py:676] Step 1000 per-step time 6.049s loss=0.368\n",
    "18:15:30.170373 139743025571648 model_lib_v2.py:676] Step 1100 per-step time 6.045s loss=0.360\n",
    "18:25:34.931655 139743025571648 model_lib_v2.py:676] Step 1200 per-step time 6.048s loss=0.377\n",
    "18:35:41.276494 139743025571648 model_lib_v2.py:676] Step 1300 per-step time 6.063s loss=0.350\n",
    "18:45:43.660615 139743025571648 model_lib_v2.py:676] Step 1400 per-step time 6.024s loss=0.314\n",
    "18:55:47.598843 139743025571648 model_lib_v2.py:676] Step 1500 per-step time 6.039s loss=0.294\n",
    "19:05:53.161123 139743025571648 model_lib_v2.py:676] Step 1600 per-step time 6.056s loss=0.284\n",
    "19:15:55.997103 139743025571648 model_lib_v2.py:676] Step 1700 per-step time 6.028s loss=0.293\n",
    "19:26:03.760966 139743025571648 model_lib_v2.py:676] Step 1800 per-step time 6.078s loss=0.304\n",
    "19:36:08.828766 139743025571648 model_lib_v2.py:676] Step 1900 per-step time 6.051s loss=0.261\n",
    "19:46:12.883026 139743025571648 model_lib_v2.py:676] Step 2000 per-step time 6.041s loss=0.296\n",
    "19:56:20.861679 139743025571648 model_lib_v2.py:676] Step 2100 per-step time 6.080s loss=0.264\n",
    "20:06:24.011735 139743025571648 model_lib_v2.py:676] Step 2200 per-step time 6.031s loss=0.256\n",
    "20:16:27.743599 139743025571648 model_lib_v2.py:676] Step 2300 per-step time 6.037s loss=0.280\n",
    "20:26:29.438639 139743025571648 model_lib_v2.py:676] Step 2400 per-step time 6.017s loss=0.246\n",
    "20:36:33.941233 139743025571648 model_lib_v2.py:676] Step 2500 per-step time 6.045s loss=0.290\n",
    "20:46:41.441896 139743025571648 model_lib_v2.py:676] Step 2600 per-step time 6.075s loss=0.234\n",
    "20:56:51.345018 139743025571648 model_lib_v2.py:676] Step 2700 per-step time 6.099s loss=0.211\n",
    "21:06:54.820329 139743025571648 model_lib_v2.py:676] Step 2800 per-step time 6.035s loss=0.243\n",
    "21:16:56.475897 139743025571648 model_lib_v2.py:676] Step 2900 per-step time 6.017s loss=0.269\n",
    "21:27:01.159507 139743025571648 model_lib_v2.py:676] Step 3000 per-step time 6.047s loss=0.331\n",
    "21:37:06.593671 139743025571648 model_lib_v2.py:676] Step 3100 per-step time 6.054s loss=0.281\n",
    "21:47:07.541745 139743025571648 model_lib_v2.py:676] Step 3200 per-step time 6.009s loss=0.243\n",
    "21:57:10.996357 139743025571648 model_lib_v2.py:676] Step 3300 per-step time 6.035s loss=0.305\n",
    "22:07:15.668454 139743025571648 model_lib_v2.py:676] Step 3400 per-step time 6.047s loss=0.254\n",
    "22:17:23.425038 139743025571648 model_lib_v2.py:676] Step 3500 per-step time 6.078s loss=0.558\n",
    "22:28:46.179837 139743025571648 model_lib_v2.py:676] Step 3600 per-step time 6.827s loss=0.311\n",
    "22:39:13.737918 139743025571648 model_lib_v2.py:676] Step 3700 per-step time 6.276s loss=0.287\n",
    "22:49:17.526234 139743025571648 model_lib_v2.py:676] Step 3800 per-step time 6.038s loss=0.223\n",
    "22:59:21.125327 139743025571648 model_lib_v2.py:676] Step 3900 per-step time 6.036s loss=0.231\n",
    "23:09:23.905567 139743025571648 model_lib_v2.py:676] Step 4000 per-step time 6.028s loss=0.238\n",
    "23:19:29.300578 139743025571648 model_lib_v2.py:676] Step 4100 per-step time 6.054s loss=0.213\n",
    "23:29:31.035223 139743025571648 model_lib_v2.py:676] Step 4200 per-step time 6.017s loss=0.232\n",
    "23:39:35.090947 139743025571648 model_lib_v2.py:676] Step 4300 per-step time 6.041s loss=0.202\n",
    "23:49:36.319549 139743025571648 model_lib_v2.py:676] Step 4400 per-step time 6.012s loss=0.225\n",
    "23:59:41.914794 139743025571648 model_lib_v2.py:676] Step 4500 per-step time 6.056s loss=0.113\n",
    "EarlyStopping\n",
    "\"\"\""
   ]
  },
  {
   "cell_type": "code",
   "execution_count": null,
   "metadata": {
    "scrolled": false
   },
   "outputs": [],
   "source": [
    "#tensorboard log\n",
    "!tensorboard --logdir 'train/'"
   ]
  },
  {
   "cell_type": "code",
   "execution_count": null,
   "metadata": {},
   "outputs": [],
   "source": [
    "#checkpoint files should be moved to /train(checkpoint dosyalarını train içine taşı)\n",
    "#make the model tf.graph (modeli tf.graph haline getirmek)\n",
    "model_dir = 'train'\n",
    "output_dir = 'inference_graph'\n",
    "pipeline_config_path = 'training/pipeline.config'\n",
    "\n",
    "!python3 /../../Desktop/MaskDetection/models/research/object_detection/exporter_main_v2.py \\\n",
    "    --trained_checkpoint_dir {model_dir} \\\n",
    "    --output_directory {output_dir} \\\n",
    "    --pipeline_config_path {pipeline_config_path}"
   ]
  }
 ],
 "metadata": {
  "kernelspec": {
   "display_name": "Python 3",
   "language": "python",
   "name": "python3"
  },
  "language_info": {
   "codemirror_mode": {
    "name": "ipython",
    "version": 3
   },
   "file_extension": ".py",
   "mimetype": "text/x-python",
   "name": "python",
   "nbconvert_exporter": "python",
   "pygments_lexer": "ipython3",
   "version": "3.8.5"
  }
 },
 "nbformat": 4,
 "nbformat_minor": 4
}
